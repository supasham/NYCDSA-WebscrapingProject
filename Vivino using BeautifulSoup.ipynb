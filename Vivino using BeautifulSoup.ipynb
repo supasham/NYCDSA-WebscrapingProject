{
 "cells": [
  {
   "cell_type": "markdown",
   "metadata": {},
   "source": [
    "# Use BeatifulSoup to scrape red wine data from Vivino using LCBO data"
   ]
  },
  {
   "cell_type": "markdown",
   "metadata": {},
   "source": [
    "This notebook goes through iterative steps to connect to the Vivino webpage and then scrape salient data associated with all the red wine items based on data scraped from LCBO. The most important information is the name, rating and number of reviews. "
   ]
  },
  {
   "cell_type": "code",
   "execution_count": 1,
   "metadata": {},
   "outputs": [],
   "source": [
    "import re\n",
    "import requests\n",
    "import time\n",
    "import random\n",
    "from bs4 import BeautifulSoup\n",
    "import pandas as pd\n",
    "import csv"
   ]
  },
  {
   "cell_type": "markdown",
   "metadata": {},
   "source": [
    "Read LCBO data and use bottle names as search items on Vivino website"
   ]
  },
  {
   "cell_type": "code",
   "execution_count": 2,
   "metadata": {},
   "outputs": [],
   "source": [
    "dfl = pd.read_csv('lcbo_redwine.csv')"
   ]
  },
  {
   "cell_type": "code",
   "execution_count": 3,
   "metadata": {},
   "outputs": [],
   "source": [
    "dfl['search'] = dfl['name'] + ' ' + dfl['region']"
   ]
  },
  {
   "cell_type": "code",
   "execution_count": 4,
   "metadata": {},
   "outputs": [
    {
     "data": {
      "text/plain": [
       "6089"
      ]
     },
     "execution_count": 4,
     "metadata": {},
     "output_type": "execute_result"
    }
   ],
   "source": [
    "# Check number of bottles\n",
    "len(list(dfl['search']))"
   ]
  },
  {
   "cell_type": "markdown",
   "metadata": {},
   "source": [
    "## Webscraping www.vivino.com using their search function on website"
   ]
  },
  {
   "cell_type": "markdown",
   "metadata": {},
   "source": [
    "This is the main code using BeautifulSoup to extract information from Vivino based on data obtained from the LCBO. Use the bottle names from the LCBO and the search functionality on Vivino to come up with the best match. Matches won't be perfect but is mostly accurate. The most salient information for this purpose is rating and number of reviews.\n",
    "\n",
    "Finally, write data to a .csvfile, indicating when a bottle has been missed."
   ]
  },
  {
   "cell_type": "code",
   "execution_count": 5,
   "metadata": {},
   "outputs": [
    {
     "name": "stdout",
     "output_type": "stream",
     "text": [
      "Finished bottle 1 of 1\n"
     ]
    }
   ],
   "source": [
    "url = 'https://www.vivino.com/search/wines?q={kw}&start={page}'\n",
    "headers = {'User-Agent': 'Mozilla/5.0 (Windows NT 10.0; Win64; x64) AppleWebKit/537.36 (KHTML, like Gecko) Chrome/87.0.4280.88 Safari/537.36'}\n",
    "\n",
    "# Helper function to scrape the first bottle of search result \n",
    "def get_wines(kw):\n",
    "    \"\"\"Scrape vivino.com for rating and number of reviews for a single bottle.\n",
    "\n",
    "    Keyword arguments:\n",
    "        kw -- a string containing the bottle name and associated information for the search\n",
    "    \n",
    "    Returns tuple containing:\n",
    "        title -- the name of the bottle as stored on vivino.com\n",
    "        region -- the region where the wine was produced\n",
    "        country -- the country where the wine was produced\n",
    "        score -- the average rating score of the wine\n",
    "        num_reviews -- the number of reviews of the wine\n",
    "    \"\"\"\n",
    "    with requests.session() as s:\n",
    "        page = 1\n",
    "        soup = BeautifulSoup(s.get(url.format(kw=kw, page=page), headers=headers).content, 'html.parser')\n",
    "        params = [wc['data-vintage'] for wc in soup.select('.default-wine-card')]\n",
    "                \n",
    "        title = soup.find('div', attrs={'class': 'default-wine-card vintage-price-id-'+str(params[0])})\\\n",
    "        .find('span', attrs={'class': 'bold'}).get_text().strip()\n",
    "        \n",
    "        region, country = soup.find('div', attrs={'class': 'default-wine-card vintage-price-id-'+str(params[0])}).\\\n",
    "        find('span', attrs={'class': 'text-block wine-card__region'}).get_text().strip().split('\\n·\\n')\n",
    "        \n",
    "        score = soup.find('div', attrs={'class': 'default-wine-card vintage-price-id-'+str(params[0])}).\\\n",
    "        find('div', attrs={'class': 'text-inline-block light average__number'}).get_text().strip()\n",
    "        score = float(score.replace(',','.'))\n",
    "        \n",
    "        num_reviews = soup.find('div', attrs={'class': 'default-wine-card vintage-price-id-'+str(params[0])}).\\\n",
    "        find('div', attrs={'class': 'text-inline-block average__stars'}).get_text().strip()\n",
    "        num_reviews = int(re.findall('\\d*\\ ',num_reviews)[0].strip())\n",
    "        \n",
    "        yield title, region, country, score, num_reviews\n",
    "        \n",
    "        # Very important to put random timer otherwise server will block ip address\n",
    "        time.sleep(random.randint(1,3))\n",
    "            \n",
    "# Test using a single search name before providing full list of thousands of bottles\n",
    "wines = ['Solaia 2009 Tuscany, Italy']\n",
    "# Comment above line and uncomment below line to do full search. Be prepared to wait for a few hours!\n",
    "#wines = list(dfl['search'])\n",
    "\n",
    "# Main loop to iterate through list of bottle names, try collecting data and printing to a .csvfile\n",
    "total = len(wines)\n",
    "i=1\n",
    "with open('vivino_redwine1.csv', 'w', encoding='utf-8', newline='') as csvfile:\n",
    "    bottle_writer = csv.writer(csvfile)\n",
    "    bottle_writer.writerow(['title','region','country','score','num_reviews']) \n",
    "    for wine in wines:\n",
    "        try:\n",
    "            bottle = list(*get_wines(wine))\n",
    "        except:\n",
    "            bottle = ['missed','missed','missed',0,0]\n",
    "        bottle_writer.writerow(bottle)\n",
    "        print('Finished bottle ' + str(i) + ' of ' + str(total))\n",
    "        i += 1"
   ]
  },
  {
   "cell_type": "code",
   "execution_count": null,
   "metadata": {},
   "outputs": [],
   "source": []
  }
 ],
 "metadata": {
  "kernelspec": {
   "display_name": "Python 3",
   "language": "python",
   "name": "python3"
  },
  "language_info": {
   "codemirror_mode": {
    "name": "ipython",
    "version": 3
   },
   "file_extension": ".py",
   "mimetype": "text/x-python",
   "name": "python",
   "nbconvert_exporter": "python",
   "pygments_lexer": "ipython3",
   "version": "3.8.3"
  }
 },
 "nbformat": 4,
 "nbformat_minor": 4
}
